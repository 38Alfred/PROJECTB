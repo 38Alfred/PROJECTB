{
 "cells": [
  {
   "cell_type": "code",
   "execution_count": null,
   "metadata": {},
   "outputs": [],
   "source": [
    "import datetime\n",
    "\n",
    "class SchoolAttendanceSystem:\n",
    "    def __init__(self):\n",
    "        # Initialize the attendance dictionary to store attendance records.\n",
    "        self.attendance = {}\n",
    "\n",
    "    def sign_in(self, student_name, form):\n",
    "        # Check if the student is already signed in.\n",
    "        if student_name in self.attendance:\n",
    "            print(f\"{student_name} has already signed in.\")\n",
    "        else:\n",
    "            # Prompt the user to input whether the student is present or absent.\n",
    "            status = input(f\"Is {student_name} present? (yes/no): \").strip().lower()\n",
    "            if status == 'yes':\n",
    "                # Record the student's attendance as present and capture the time of arrival.\n",
    "                self.attendance[student_name] = {'status': 'present', 'form': form, 'time': datetime.datetime.now()}\n",
    "                print(f\"{student_name} is present. Thank you!\")\n",
    "                # Send feedback to the parent.\n",
    "                self.send_feedback(student_name)\n",
    "            elif status == 'no':\n",
    "                # Record the student's attendance as absent.\n",
    "                self.attendance[student_name] = {'status': 'absent', 'form': form}\n",
    "                print(f\"{student_name} is absent.\")\n",
    "                # Send feedback to the parent.\n",
    "                self.send_feedback(student_name)\n",
    "            else:\n",
    "                print(\"Invalid input. Please enter 'yes' or 'no'.\")\n",
    "\n",
    "    def send_feedback(self, student_name):\n",
    "        # Retrieve the attendance details of the student.\n",
    "        status = self.attendance[student_name]['status']\n",
    "        form = self.attendance[student_name]['form']\n",
    "        # Send feedback to the parent based on the student's attendance status.\n",
    "        if status == 'present':\n",
    "            print(f\"Dear parent, {student_name} has arrived in school. Thank you for cooperating.\")\n",
    "            print(f\"Name: {student_name}, Form: {form}, Status: Present, Time of Arrival: {self.attendance[student_name]['time']}\")\n",
    "        elif status == 'absent':\n",
    "            print(f\"Dear parent, {student_name} has not arrived.\")\n",
    "            print(f\"Name: {student_name}, Form: {form}, Status: Absent\")\n",
    "\n",
    "# Create an instance of the SchoolAttendanceSystem class.\n",
    "attendance_system = SchoolAttendanceSystem()\n",
    "\n",
    "# Prompt the user to enter the student's name and form.\n",
    "student_name = input(\"Enter student's name: \").strip()\n",
    "form = input(\"Enter the student's form: \").strip()\n",
    "\n",
    "# Sign in the student and record their attendance.\n",
    "attendance_system.sign_in(student_name, form)\n"
   ]
  }
 ],
 "metadata": {
  "kernelspec": {
   "display_name": "Python 3",
   "language": "python",
   "name": "python3"
  },
  "language_info": {
   "name": "python",
   "version": "3.10.12"
  }
 },
 "nbformat": 4,
 "nbformat_minor": 2
}
